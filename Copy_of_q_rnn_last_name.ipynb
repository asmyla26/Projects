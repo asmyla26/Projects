{
  "cells": [
    {
      "cell_type": "markdown",
      "metadata": {
        "id": "view-in-github",
        "colab_type": "text"
      },
      "source": [
        "<a href=\"https://colab.research.google.com/github/asmyla26/Projects/blob/main/Copy_of_q_rnn_last_name.ipynb\" target=\"_parent\"><img src=\"https://colab.research.google.com/assets/colab-badge.svg\" alt=\"Open In Colab\"/></a>"
      ]
    },
    {
      "cell_type": "markdown",
      "metadata": {
        "id": "yIqzcT6vyUJI"
      },
      "source": [
        "# RNN for Last Name Classification\n",
        "\n",
        "Welcome to this assignment where you will train a neural network to predict the probable language of origin for a given last name / family name in Latin alphabets.\n",
        "\n",
        "Throughout this task, you will gain expertise in the following areas:\n",
        "\n",
        "- Preprocessing raw text data for suitable input into an RNN and (Optionally) LSTM.\n",
        "- Utilizing PyTorch to train your recurrent neural network models.\n",
        "- Evaluating your model's performance and making predictions on unseen data."
      ]
    },
    {
      "cell_type": "markdown",
      "metadata": {
        "id": "tuKQ6UonCjPY"
      },
      "source": [
        "## Download Data"
      ]
    },
    {
      "cell_type": "code",
      "execution_count": 1,
      "metadata": {
        "id": "u4oZ8lzVCkiv",
        "colab": {
          "base_uri": "https://localhost:8080/"
        },
        "outputId": "dc73cf6e-1f53-4e1a-8fec-536109c50985"
      },
      "outputs": [
        {
          "output_type": "stream",
          "name": "stdout",
          "text": [
            "--2024-10-28 21:55:22--  https://download.pytorch.org/tutorial/data.zip\n",
            "Resolving download.pytorch.org (download.pytorch.org)... 3.165.102.31, 3.165.102.113, 3.165.102.62, ...\n",
            "Connecting to download.pytorch.org (download.pytorch.org)|3.165.102.31|:443... connected.\n",
            "HTTP request sent, awaiting response... 200 OK\n",
            "Length: 2882130 (2.7M) [application/zip]\n",
            "Saving to: ‘data.zip’\n",
            "\n",
            "\rdata.zip              0%[                    ]       0  --.-KB/s               \rdata.zip            100%[===================>]   2.75M  --.-KB/s    in 0.02s   \n",
            "\n",
            "2024-10-28 21:55:22 (145 MB/s) - ‘data.zip’ saved [2882130/2882130]\n",
            "\n",
            "Archive:  data.zip\n",
            "   creating: data/\n",
            "  inflating: data/eng-fra.txt        \n",
            "   creating: data/names/\n",
            "  inflating: data/names/Arabic.txt   \n",
            "  inflating: data/names/Chinese.txt  \n",
            "  inflating: data/names/Czech.txt    \n",
            "  inflating: data/names/Dutch.txt    \n",
            "  inflating: data/names/English.txt  \n",
            "  inflating: data/names/French.txt   \n",
            "  inflating: data/names/German.txt   \n",
            "  inflating: data/names/Greek.txt    \n",
            "  inflating: data/names/Irish.txt    \n",
            "  inflating: data/names/Italian.txt  \n",
            "  inflating: data/names/Japanese.txt  \n",
            "  inflating: data/names/Korean.txt   \n",
            "  inflating: data/names/Polish.txt   \n",
            "  inflating: data/names/Portuguese.txt  \n",
            "  inflating: data/names/Russian.txt  \n",
            "  inflating: data/names/Scottish.txt  \n",
            "  inflating: data/names/Spanish.txt  \n",
            "  inflating: data/names/Vietnamese.txt  \n"
          ]
        }
      ],
      "source": [
        "import os\n",
        "\n",
        "if not os.path.exists(\"data\"):\n",
        "    !wget https://download.pytorch.org/tutorial/data.zip\n",
        "    !unzip data"
      ]
    },
    {
      "cell_type": "markdown",
      "metadata": {
        "id": "LL29FMhfyUJv"
      },
      "source": [
        "## Library imports"
      ]
    },
    {
      "cell_type": "markdown",
      "metadata": {
        "id": "5OXaa4g1yUJx"
      },
      "source": [
        "Before starting, make sure you have all these libraries."
      ]
    },
    {
      "cell_type": "code",
      "execution_count": 2,
      "metadata": {
        "id": "-G1WS5wsd2r4"
      },
      "outputs": [],
      "source": [
        "root_folder = \"\"\n",
        "import os\n",
        "import sys\n",
        "import inspect\n",
        "sys.path.append(root_folder)\n",
        "from collections import Counter\n",
        "import torch\n",
        "from torch import nn\n",
        "import torch.nn.functional as F\n",
        "import torch.optim as optim\n",
        "from tqdm import tqdm\n",
        "\n",
        "import random\n",
        "import numpy as np\n",
        "import json\n",
        "\n",
        "import matplotlib.pyplot as plt\n",
        "# from utils import validate_to_array\n",
        "\n",
        "device = torch.device(\"cuda\" if torch.cuda.is_available() else \"cpu\")\n",
        "\n",
        "import IPython\n",
        "from ipywidgets import interactive, widgets, Layout\n",
        "from IPython.display import display, HTML"
      ]
    },
    {
      "cell_type": "code",
      "execution_count": 3,
      "metadata": {
        "id": "N1twBPSLyUJz"
      },
      "outputs": [],
      "source": [
        "%load_ext autoreload\n",
        "%autoreload 2"
      ]
    },
    {
      "cell_type": "markdown",
      "metadata": {
        "id": "A3SB0UHhvmYK"
      },
      "source": [
        "## Implement the Neural Network"
      ]
    },
    {
      "cell_type": "markdown",
      "metadata": {
        "id": "MF6elO0IR86P"
      },
      "source": [
        "The main objective of this task is to predict the probability of a given class given a last name, represented as\n",
        "\n",
        "$$ \\Pr ( y | x_1, x_2, x_3, ..., x_i),$$\n",
        "\n",
        "where $y$ is the category label and each $x_i$ is a character in the last name. Building a basic character-level NLP model has the advantage of understanding how the preprocessing works at a granular level. The character-level network reads words as a sequence of characters, producing a prediction and \"hidden state\" at each step by feeding its previous hidden state into the next step. The final prediction corresponds to the class to which the word belongs.\n",
        "\n",
        "All models in PyTorch inherit from the nn.Module subclass. In this assignment, you will **implement a custom model named `RecurrentClassifier`** that runs either [nn.RNN](https://pytorch.org/docs/stable/generated/torch.nn.RNN.html) or [nn.LSTM](https://pytorch.org/docs/stable/generated/torch.nn.LSTM.html) and define its forward function. The implementation of LSTMs is *optional*.\n",
        "\n",
        "The forward pass of the model can be visualized with the following diagram:\n",
        "\n",
        "```\n",
        "[Embedding] -> [RNN Stack] -> [Extract Last Position] -> [Classifier]\n",
        "```\n",
        "\n",
        "- **Embedding:** This component maps each input word (integer) to a vector of real numbers.\n",
        "    - Input: `[batch_size, seq_len]`\n",
        "    - Output: `[batch_size, seq_len, rnn_size]`\n",
        "- **RNN Stack:** This component consists of one or more RNN layers, which process the input sequence of vectors from the Embedding component.\n",
        "    - Input: `[batch_size, seq_len, rnn_size]`\n",
        "    - Output: `[batch_size, seq_len, rnn_size]`\n",
        "- **Extract Last Position:** The RNN Stack component returns a sequence of vectors for each input example. However, for classification purposes, we only need a single vector that captures the full information of the input example. Since the RNN is left-to-right by default, the output state vector at the last position contains the full information of the input example. Therefore, for the $i$-th input example, we extract the output state vector at the last *non-pad* position, which is indicated by `last_pos[i]`.\n",
        "    - Input: `[batch_size, seq_len, rnn_size]`\n",
        "    - Output: `[batch_size, rnn_size]`\n",
        "- **Classifier:** This component is a fully-connected layer that maps the output vectors extracted in the previous step to logits (scores before softmax), which can be used to make predictions about the language of origin for each input example.\n",
        "    - Input: `[batch_size, rnn_size]`\n",
        "    - Output: `[batch_size, n_categories]`\n",
        "\n",
        "\n",
        "These documents would be helpful in this part:\n",
        "\n",
        "- https://pytorch.org/docs/stable/generated/torch.nn.Embedding.html\n",
        "- https://pytorch.org/docs/stable/generated/torch.nn.RNN.html\n",
        "- https://pytorch.org/docs/stable/generated/torch.gather.html\n",
        "- https://pytorch.org/docs/stable/generated/torch.Tensor.expand.html\n",
        "- https://pytorch.org/docs/stable/generated/torch.Tensor.view.html"
      ]
    },
    {
      "cell_type": "code",
      "execution_count": 30,
      "metadata": {
        "id": "Db5S9F-ovksV"
      },
      "outputs": [],
      "source": [
        "class RecurrentClassifier(nn.Module):\n",
        "    def __init__(\n",
        "        self,\n",
        "        vocab_size: int,\n",
        "        rnn_size: int,\n",
        "        n_categories: int,\n",
        "        num_layers: int = 1,\n",
        "        dropout: float = 0.0,\n",
        "        model_type: str = 'lstm'\n",
        "    ):\n",
        "        super().__init__()\n",
        "        self.rnn_size = rnn_size\n",
        "        self.model_type = model_type\n",
        "        self.dropout = dropout\n",
        "\n",
        "\n",
        "        ########################################################################\n",
        "        # TODO: Create an embedding layer of shape [vocab_size, rnn_size]\n",
        "        #\n",
        "        # Hint: Use nn.Embedding\n",
        "        # https://pytorch.org/docs/stable/generated/torch.nn.Embedding.html\n",
        "        # It will map each word into a vector of shape [rnn_size]\n",
        "\n",
        "        self.embedding = torch.nn.Embedding(vocab_size, self.rnn_size)\n",
        "        ########################################################################\n",
        "        ########################################################################\n",
        "\n",
        "        ########################################################################\n",
        "        # TODO: Create a RNN stack with `num_layers` layers with tanh\n",
        "        #       nonlinearity. Between each layers, there is a dropout of\n",
        "        #       `dropout`. Implement it with a *single* call to `torch.nn` APIs\n",
        "        #\n",
        "        # Hint: See documentations at\n",
        "        # https://pytorch.org/docs/stable/generated/torch.nn.RNN.html\n",
        "        # Set the arguments to call `nn.RNN` such that:\n",
        "        # - The shape of the input is [batch_size, seq_len, rnn_size]\n",
        "        # - The shape of the output should be [batch_size, seq_len, rnn_size]\n",
        "        # Make sure that the dimension ordering is correct. One of the argument\n",
        "        #   in the constructor of `nn.RNN` (or `nn.LSTM`) is helpful here\n",
        "        #\n",
        "        # Optional: Implement one LSTM layer when `model_type` is `lstm`\n",
        "\n",
        "        self.rnn = torch.nn.RNN(self.rnn_size, self.rnn_size, num_layers, nonlinearity='tanh', dropout=self.dropout, batch_first=True)\n",
        "\n",
        "        ########################################################################\n",
        "        ########################################################################\n",
        "\n",
        "        ########################################################################\n",
        "        # TODO: Implement one dropout layer and the fully-connected classifier\n",
        "        #       layer\n",
        "        #\n",
        "        # Hint: We add a dropout layer because neither nn.RNN nor nn.LSTM\n",
        "        #   implements dropout after the last layer in the stack.\n",
        "        # Since the input to the classifier is the output of the last position\n",
        "        #   of the RNN's final layer, it has a shape of [batch_size, rnn_size].\n",
        "        # The expected output should be logits, which correspond to scores\n",
        "        #   before applying softmax, and should have a shape of\n",
        "        #   [batch_size, n_categories].\n",
        "\n",
        "        self.drop = torch.nn.Dropout(self.dropout)\n",
        "        self.output = torch.nn.Linear(self.rnn_size, n_categories)\n",
        "\n",
        "        ########################################################################\n",
        "        ########################################################################\n",
        "\n",
        "    def forward(self, x: torch.Tensor, last_pos: torch.Tensor) -> torch.Tensor:\n",
        "        \"\"\"\n",
        "        x: integer tensor of shape [batch_size, seq_len]\n",
        "        last_pos: integer tensor of shape [batch_size]\n",
        "\n",
        "        The input tensor `x` is composed of a batch of sequences, where each\n",
        "        sequence contains indices corresponding to characters. As sequences\n",
        "        within the same batch may have different lengths, shorter sequences are\n",
        "        padded on the right side to match the maximum sequence length of the\n",
        "        batch, which is represented by `seq_len`.\n",
        "\n",
        "        Additionally, the `last_pos` tensor records the position of the last\n",
        "        character in each sequence. For instance, the first sequence in the\n",
        "        batch can be represented as `[x[0, 0], x[0, 1], ..., x[0, last_pos[0]]`.\n",
        "        `last_pos` is useful when extracting the output state associated with\n",
        "        each sequence from the RNNs.\n",
        "        \"\"\"\n",
        "        embeds = self.embedding(x)\n",
        "        if self.model_type == 'lstm':\n",
        "            rnn_out, _ = self.lstm(embeds)\n",
        "        else:\n",
        "            rnn_out, _ = self.rnn(embeds)\n",
        "\n",
        "        ########################################################################\n",
        "        # TODO: Retrieve the output state associated with each sequence\n",
        "        #\n",
        "        # Hints:\n",
        "        # - The output state of all positions is returned by the RNN stack,\n",
        "        #   but we only need the state in the last position for classification\n",
        "        #   - The shape of `rnn_out` is [batch_size, seq_len, rnn_size]\n",
        "        #   - The expected shape of `out` is [batch_size, rnn_size]\n",
        "        # - For the i-th sequence, we have out[i] == rnn_out[i, last_pos[i]]\n",
        "        # - Try to condense your code into a single line, without using any\n",
        "        #   loops. However, if you find it too challenging to do so, you may use\n",
        "        #   a single layer of for-loop.\n",
        "\n",
        "        out = rnn_out[torch.arange(x.size(0)),last_pos]\n",
        "        ########################################################################\n",
        "        ########################################################################\n",
        "\n",
        "        out = self.drop(out)\n",
        "        logits = self.output(out)\n",
        "        return logits\n"
      ]
    },
    {
      "cell_type": "markdown",
      "metadata": {
        "id": "A_hTnDGcBPWi"
      },
      "source": [
        "After completing your implementation, ensure that it passes the following tests. If your implementation fails some tests, but you believe that your implementation is correct, please post the error message along with a brief description on Ed. Please refrain from posting your actual code on Ed."
      ]
    },
    {
      "cell_type": "code",
      "execution_count": 32,
      "metadata": {
        "id": "9igyCWAW8haH"
      },
      "outputs": [],
      "source": [
        "seed = 227\n",
        "random.seed(seed)\n",
        "np.random.seed(seed)\n",
        "torch.manual_seed(seed)\n",
        "model = RecurrentClassifier(11, 13, 17, 2, 0.1, 'rnn')"
      ]
    },
    {
      "cell_type": "code",
      "execution_count": 33,
      "metadata": {
        "id": "Duj1OSql9SzV"
      },
      "outputs": [],
      "source": [
        "assert list(model.state_dict().keys()) == ['embedding.weight',\n",
        " 'rnn.weight_ih_l0',\n",
        " 'rnn.weight_hh_l0',\n",
        " 'rnn.bias_ih_l0',\n",
        " 'rnn.bias_hh_l0',\n",
        " 'rnn.weight_ih_l1',\n",
        " 'rnn.weight_hh_l1',\n",
        " 'rnn.bias_ih_l1',\n",
        " 'rnn.bias_hh_l1',\n",
        " 'output.weight',\n",
        " 'output.bias']\n",
        "assert model.embedding.weight.shape == torch.Size([11, 13])\n",
        "assert (\n",
        "    model.rnn.weight_ih_l0.shape\n",
        "    == model.rnn.weight_hh_l0.shape\n",
        "    == model.rnn.weight_ih_l1.shape\n",
        "    == model.rnn.weight_hh_l1.shape\n",
        "    == torch.Size([13, 13])\n",
        ")\n",
        "assert (\n",
        "    model.rnn.bias_ih_l0.shape\n",
        "    == model.rnn.bias_hh_l0.shape\n",
        "    == model.rnn.bias_ih_l1.shape\n",
        "    == model.rnn.bias_hh_l1.shape\n",
        "    == torch.Size([13])\n",
        ")\n",
        "assert model.output.weight.shape == torch.Size([17, 13])\n",
        "assert model.output.bias.shape == torch.Size([17])"
      ]
    },
    {
      "cell_type": "code",
      "execution_count": 34,
      "metadata": {
        "id": "YtNmLXXi-agz"
      },
      "outputs": [],
      "source": [
        "x = torch.arange(20).view(5, 4) % 11\n",
        "last_pos = torch.tensor([2, 3, 1, 2, 3])\n",
        "seed = 1025\n",
        "random.seed(seed)\n",
        "np.random.seed(seed)\n",
        "torch.manual_seed(seed)\n",
        "logits = model(x, last_pos)\n",
        "assert logits.shape == torch.Size([5, 17])\n",
        "assert torch.allclose(\n",
        "    logits.view(-1)[40:45],\n",
        "    torch.tensor(\n",
        "        [\n",
        "            -0.27393126487731934,\n",
        "            0.28421181440353394,\n",
        "            0.2342953234910965,\n",
        "            0.23580458760261536,\n",
        "            0.06812290847301483\n",
        "        ],\n",
        "        dtype=torch.float\n",
        "    ),\n",
        "    rtol=1e-03\n",
        ")\n",
        "\n",
        "model.zero_grad()\n",
        "logits.sum().backward()\n",
        "assert torch.allclose(\n",
        "    model.rnn.weight_hh_l0.grad.view(-1)[40:45],\n",
        "    torch.tensor(\n",
        "        [\n",
        "            -0.9424352645874023,\n",
        "            -0.488606333732605,\n",
        "            0.6905138492584229,\n",
        "            -0.0017577260732650757,\n",
        "            1.1024625301361084\n",
        "        ],\n",
        "        dtype=torch.float\n",
        "    ),\n",
        "    rtol=1e-03\n",
        ")"
      ]
    },
    {
      "cell_type": "markdown",
      "metadata": {
        "id": "am28_VTdwjOE"
      },
      "source": [
        "## Preprocess the dataset\n",
        "\n",
        "The [dataset](https://pytorch.org/tutorials/intermediate/char_rnn_classification_tutorial.html) contains a few thousand surnames from 18 languages of origin. Included in the data/names directory are 18 text files named as \"[Language].txt\". Each file contains a bunch of names, one name per line, mostly romanized (but we still need to convert from Unicode to ASCII).\n",
        "\n",
        "We'll end up with a dictionary of lists of names per language, {language: [names ...]}.\n",
        "\n",
        "\n"
      ]
    },
    {
      "cell_type": "code",
      "execution_count": 35,
      "metadata": {
        "id": "Spx_3RDXrMSO",
        "colab": {
          "base_uri": "https://localhost:8080/"
        },
        "outputId": "7a353eed-99d8-451f-f800-7c05deca19f7"
      },
      "outputs": [
        {
          "output_type": "stream",
          "name": "stdout",
          "text": [
            "The normalized form of Ślusàrski is Slusarski\n"
          ]
        }
      ],
      "source": [
        "from __future__ import unicode_literals, print_function, division\n",
        "from io import open\n",
        "import glob\n",
        "import os\n",
        "\n",
        "def findFiles(path): return glob.glob(path)\n",
        "\n",
        "assert findFiles('data/names/*.txt'), \"Data not found!\"\n",
        "\n",
        "import unicodedata\n",
        "import string\n",
        "\n",
        "all_letters = string.ascii_letters + \" .,;'\"\n",
        "n_letters = len(all_letters)\n",
        "\n",
        "# Turn a Unicode string to plain ASCII, thanks to https://stackoverflow.com/a/518232/2809427\n",
        "def unicodeToAscii(s):\n",
        "    return ''.join(\n",
        "        c for c in unicodedata.normalize('NFD', s)\n",
        "        if unicodedata.category(c) != 'Mn'\n",
        "        and c in all_letters\n",
        "    )\n",
        "\n",
        "print(\"The normalized form of\", 'Ślusàrski', \"is\", unicodeToAscii('Ślusàrski'))\n",
        "\n",
        "# Build the category_lines dictionary, a list of names per language\n",
        "category_lines = {}\n",
        "all_categories = []\n",
        "\n",
        "# Read a file and split into lines\n",
        "def readLines(filename):\n",
        "    lines = open(filename, encoding='utf-8').read().strip().split('\\n')\n",
        "    return [unicodeToAscii(line) for line in lines]\n",
        "\n",
        "for filename in findFiles('data/names/*.txt'):\n",
        "    category = os.path.splitext(os.path.basename(filename))[0]\n",
        "    all_categories.append(category)\n",
        "    lines = readLines(filename)\n",
        "    category_lines[category] = lines\n",
        "\n",
        "n_categories = len(all_categories)"
      ]
    },
    {
      "cell_type": "code",
      "execution_count": 36,
      "metadata": {
        "id": "qNH7FdHUrRAy",
        "colab": {
          "base_uri": "https://localhost:8080/"
        },
        "outputId": "5271bfcb-2e6e-4ff5-cb16-709ef7848151"
      },
      "outputs": [
        {
          "output_type": "stream",
          "name": "stdout",
          "text": [
            "['Abandonato', 'Abatangelo', 'Abatantuono', 'Abate', 'Abategiovanni']\n"
          ]
        }
      ],
      "source": [
        "print(category_lines['Italian'][:5])"
      ]
    },
    {
      "cell_type": "code",
      "execution_count": 37,
      "metadata": {
        "id": "Q4GRxZSVC8Zo",
        "colab": {
          "base_uri": "https://localhost:8080/",
          "height": 35
        },
        "outputId": "03e07b4c-a3e1-4d6e-e8e7-a42c5eca8abe"
      },
      "outputs": [
        {
          "output_type": "execute_result",
          "data": {
            "text/plain": [
              "\"abcdefghijklmnopqrstuvwxyzABCDEFGHIJKLMNOPQRSTUVWXYZ .,;'\""
            ],
            "application/vnd.google.colaboratory.intrinsic+json": {
              "type": "string"
            }
          },
          "metadata": {},
          "execution_count": 37
        }
      ],
      "source": [
        "all_letters"
      ]
    },
    {
      "cell_type": "markdown",
      "metadata": {
        "id": "UkFjtadRVxDI"
      },
      "source": [
        "**Implement the function to encode a letter to an integer:**"
      ]
    },
    {
      "cell_type": "code",
      "execution_count": 38,
      "metadata": {
        "id": "3Vl_70ZxWX0r"
      },
      "outputs": [],
      "source": [
        "def letterToIndex(letter):\n",
        "    ############################################################################\n",
        "    # TODO: implement the function to map a letter (a character) into its index\n",
        "    #       in `all_letters`\n",
        "    #\n",
        "    # e.g. letterToIndex(\"a\") == 0\n",
        "    # Don't worry about efficiency here\n",
        "\n",
        "    return all_letters.find(letter)\n",
        "\n",
        "    ############################################################################\n",
        "    ############################################################################\n",
        "\n",
        "assert letterToIndex(\"a\") == 0\n",
        "assert letterToIndex(\"'\") == 56"
      ]
    },
    {
      "cell_type": "code",
      "execution_count": 39,
      "metadata": {
        "id": "bpYcTMmA0Egj"
      },
      "outputs": [],
      "source": [
        "# For labels, we must have numbers instead of a string. These dictionaries convert\n",
        "# between these two ways of representing the labels.\n",
        "num_to_cat = dict(enumerate(category_lines.keys()))\n",
        "cat_to_num = dict((v,k) for k,v in num_to_cat.items())\n",
        "\n",
        "pad = 57 # this is the next available character\n",
        "vocab_size = 58 # number of characters used in total"
      ]
    },
    {
      "cell_type": "code",
      "execution_count": 40,
      "metadata": {
        "id": "0PwyIWRb4sW8"
      },
      "outputs": [],
      "source": [
        "def build_data():\n",
        "  '''\n",
        "  category_lines: a dictionary of lists of names per language, {language: [names ...]}.\n",
        "\n",
        "  We want to translate our dictionary into a dataset that has one entry per name.\n",
        "  Each datapoint is a 3-tuple consisting of:\n",
        "  - x: a length-19 array with each character in the name as an element,\n",
        "   padded with zeros at the end if the name is less than 19 characters.\n",
        "  - y: the numerical representation of the language the name corresponds to.\n",
        "  - index: the index of the last non-pad token\n",
        "  '''\n",
        "  data = []\n",
        "  for cat in category_lines:\n",
        "    for name in category_lines[cat]:\n",
        "      token = np.ones(19, dtype=np.int64) * pad\n",
        "      numerized = np.array([letterToIndex(l) for l in name])\n",
        "      n = len(numerized)\n",
        "      token[:n] = numerized\n",
        "      data.append((token, cat_to_num[cat], n-1))\n",
        "  return data"
      ]
    },
    {
      "cell_type": "code",
      "execution_count": 41,
      "metadata": {
        "id": "cd8gOGTD_Sgw"
      },
      "outputs": [],
      "source": [
        "data = build_data()\n",
        "seed = 227\n",
        "random.seed(seed)\n",
        "np.random.seed(seed)\n",
        "torch.manual_seed(seed)\n",
        "random.shuffle(data)"
      ]
    },
    {
      "cell_type": "code",
      "execution_count": 42,
      "metadata": {
        "id": "6k46hFu-BFeE"
      },
      "outputs": [],
      "source": [
        "n_train = int(len(data) * 0.8)\n",
        "train_data = data[:n_train]\n",
        "test_data = data[n_train:]"
      ]
    },
    {
      "cell_type": "code",
      "execution_count": 43,
      "metadata": {
        "id": "4KOat8zFDvRT",
        "colab": {
          "base_uri": "https://localhost:8080/"
        },
        "outputId": "4bfded6b-483a-4f7f-fd24-9e60081cf71b"
      },
      "outputs": [
        {
          "output_type": "execute_result",
          "data": {
            "text/plain": [
              "16059"
            ]
          },
          "metadata": {},
          "execution_count": 43
        }
      ],
      "source": [
        "len(train_data)"
      ]
    },
    {
      "cell_type": "code",
      "execution_count": 44,
      "metadata": {
        "id": "KNbmuE0PEEaa",
        "colab": {
          "base_uri": "https://localhost:8080/"
        },
        "outputId": "5f165aa4-a95a-4210-b0f3-823062befcf2"
      },
      "outputs": [
        {
          "output_type": "execute_result",
          "data": {
            "text/plain": [
              "(array([44,  4, 17,  0, 10, 57, 57, 57, 57, 57, 57, 57, 57, 57, 57, 57, 57,\n",
              "        57, 57]),\n",
              " 8,\n",
              " 4)"
            ]
          },
          "metadata": {},
          "execution_count": 44
        }
      ],
      "source": [
        "train_data[0]"
      ]
    },
    {
      "cell_type": "code",
      "execution_count": 45,
      "metadata": {
        "id": "HehmlKneEGIL",
        "colab": {
          "base_uri": "https://localhost:8080/"
        },
        "outputId": "4eedadd0-b39a-4c4c-da66-bd96ab6a3365"
      },
      "outputs": [
        {
          "output_type": "execute_result",
          "data": {
            "text/plain": [
              "4015"
            ]
          },
          "metadata": {},
          "execution_count": 45
        }
      ],
      "source": [
        "len(test_data)"
      ]
    },
    {
      "cell_type": "code",
      "execution_count": 46,
      "metadata": {
        "id": "KwiDGZKxEGKt",
        "colab": {
          "base_uri": "https://localhost:8080/"
        },
        "outputId": "a829f7fa-d432-4b97-dafc-f807ff66b5d4"
      },
      "outputs": [
        {
          "output_type": "execute_result",
          "data": {
            "text/plain": [
              "(array([26, 22,  0,  3, 57, 57, 57, 57, 57, 57, 57, 57, 57, 57, 57, 57, 57,\n",
              "        57, 57]),\n",
              " 7,\n",
              " 3)"
            ]
          },
          "metadata": {},
          "execution_count": 46
        }
      ],
      "source": [
        "test_data[0]"
      ]
    },
    {
      "cell_type": "markdown",
      "metadata": {
        "id": "qz7ixZGKyUKT"
      },
      "source": [
        "# Train the model"
      ]
    },
    {
      "cell_type": "markdown",
      "metadata": {
        "id": "9sDUBkpnyUKU"
      },
      "source": [
        "Training will be faster if you use the Colab GPU. If it's not already enabled, do so with Runtime -> Change runtime type."
      ]
    },
    {
      "cell_type": "code",
      "execution_count": 47,
      "metadata": {
        "id": "FTBKTehd4A9t"
      },
      "outputs": [],
      "source": [
        "def build_batch(dataset, indices):\n",
        "    '''\n",
        "    Helper function for creating a batch during training. Builds a batch\n",
        "    of source and target elements from the dataset. See the next cell for\n",
        "    when and how it's used.\n",
        "\n",
        "    Arguments:\n",
        "        dataset: List[db_element] -- A list of dataset elements\n",
        "        indices: List[int] -- A list of indices of the dataset to sample\n",
        "    Returns:\n",
        "        batch_input: List[List[int]] -- List of tensorized names\n",
        "        batch_target: List[int] -- List of numerical categories\n",
        "        batch_indices: List[int] -- List of starting indices of padding\n",
        "    '''\n",
        "    # Recover what the entries for the batch are\n",
        "    batch = [dataset[i] for i in indices]\n",
        "    batch_input = np.array(list(zip(*batch))[0])\n",
        "    batch_target = np.array(list(zip(*batch))[1])\n",
        "    batch_indices = np.array(list(zip(*batch))[2])\n",
        "    return batch_input, batch_target, batch_indices # lines, categories"
      ]
    },
    {
      "cell_type": "code",
      "execution_count": 48,
      "metadata": {
        "id": "f8EsPWGmEbA6",
        "colab": {
          "base_uri": "https://localhost:8080/"
        },
        "outputId": "dd5a7fcc-3115-4cf0-f509-7726e10acde4"
      },
      "outputs": [
        {
          "output_type": "execute_result",
          "data": {
            "text/plain": [
              "(array([[30, 17, 20, 13, 14, 21, 57, 57, 57, 57, 57, 57, 57, 57, 57, 57,\n",
              "         57, 57, 57],\n",
              "        [36, 14,  5,  4, 11, 57, 57, 57, 57, 57, 57, 57, 57, 57, 57, 57,\n",
              "         57, 57, 57],\n",
              "        [51,  7, 20, 10, 14, 21, 57, 57, 57, 57, 57, 57, 57, 57, 57, 57,\n",
              "         57, 57, 57]]),\n",
              " array([5, 8, 5]),\n",
              " array([5, 4, 5]))"
            ]
          },
          "metadata": {},
          "execution_count": 48
        }
      ],
      "source": [
        "build_batch(train_data, [1, 2, 3])"
      ]
    },
    {
      "cell_type": "markdown",
      "metadata": {
        "id": "jQYh-gcyR0u0"
      },
      "source": [
        "**Adjust the hyperparameters listed below** to train an RNN with a minimum evaluation accuracy of 80% after 20 epochs. Your score will be graded on a linear scale, ranging from 0 to the maximum score, as the validation accuracy achieved after the last epoch changes from 70% to 80% (i.e., you get 0 if the accuracy is less than 70%, and get the full score if the accuracy is greater than 80% for this autograding item)."
      ]
    },
    {
      "cell_type": "code",
      "execution_count": 84,
      "metadata": {
        "id": "b01AZj0RyUKW",
        "colab": {
          "base_uri": "https://localhost:8080/"
        },
        "outputId": "5838ce70-a819-44ba-de4c-92ca0bb09e12"
      },
      "outputs": [
        {
          "output_type": "stream",
          "name": "stdout",
          "text": [
            "You are using cuda for training\n"
          ]
        }
      ],
      "source": [
        "criterion = nn.CrossEntropyLoss()\n",
        "\n",
        "# The build_batch function outputs numpy, but our model is built in pytorch,\n",
        "# so we need to convert numpy to pytorch with the correct types.\n",
        "batch_to_torch = lambda b_in,b_target,b_mask: (torch.tensor(b_in).long(),\n",
        "                                               torch.tensor(b_target).long(),\n",
        "                                               torch.tensor(b_mask).long())\n",
        "\n",
        "############################################################################\n",
        "# TODO: Tune these hyperparameters for a better performance\n",
        "hidden_size = 64\n",
        "num_layers = 1\n",
        "dropout = 0.0\n",
        "optimizer_class = optim.Adam\n",
        "lr = 1e-3\n",
        "batch_size = 256\n",
        "############################################################################\n",
        "############################################################################\n",
        "\n",
        "# Do not change the number of epochs\n",
        "epochs = 20\n",
        "\n",
        "device = torch.device(\"cuda\" if torch.cuda.is_available() else \"cpu\")\n",
        "print(\"You are using\", device, \"for training\")\n",
        "list_to_device = lambda th_obj: [tensor.to(device) for tensor in th_obj]"
      ]
    },
    {
      "cell_type": "code",
      "execution_count": null,
      "metadata": {
        "id": "fjIAKqbvg9ER"
      },
      "outputs": [],
      "source": [
        "# Optional\n",
        "# lstm_model = RecurrentClassifier(vocab_size=vocab_size, rnn_size=hidden_size, n_categories=n_categories, num_layers=num_layers, dropout=dropout, model_type='lstm')\n",
        "# lstm_optimizer = optimizer_class(lstm_model.parameters(), lr=lr)"
      ]
    },
    {
      "cell_type": "code",
      "execution_count": 85,
      "metadata": {
        "id": "VlTTq27e3g31"
      },
      "outputs": [],
      "source": [
        "seed = 1998\n",
        "random.seed(seed)\n",
        "np.random.seed(seed)\n",
        "torch.manual_seed(seed)\n",
        "rnn_model = RecurrentClassifier(vocab_size=vocab_size, rnn_size=hidden_size, n_categories=n_categories, num_layers=num_layers, dropout=dropout, model_type='rnn')\n",
        "rnn_optimizer = optimizer_class(rnn_model.parameters(), lr=lr)"
      ]
    },
    {
      "cell_type": "code",
      "execution_count": 86,
      "metadata": {
        "id": "sVDHLiOmyUKX"
      },
      "outputs": [],
      "source": [
        "def train(model, optimizer, criterion, epochs, batch_size, seed):\n",
        "    model.to(device)\n",
        "    model.train()\n",
        "    train_losses = []\n",
        "    train_accuracies = []\n",
        "    eval_accuracies = []\n",
        "    for epoch in range(epochs):\n",
        "        random.seed(seed + epoch)\n",
        "        np.random.seed(seed + epoch)\n",
        "        torch.manual_seed(seed + epoch)\n",
        "        indices = np.random.permutation(range(len(train_data)))\n",
        "        n_correct, n_total = 0, 0\n",
        "        progress_bar = tqdm(range(0, (len(train_data) // batch_size) + 1))\n",
        "        for i in progress_bar:\n",
        "            batch = build_batch(train_data, indices[i*batch_size:(i+1)*batch_size])\n",
        "            (batch_input, batch_target, batch_indices) = batch_to_torch(*batch)\n",
        "            (batch_input, batch_target, batch_indices) = list_to_device((batch_input, batch_target, batch_indices))\n",
        "\n",
        "            logits = model(batch_input, batch_indices)\n",
        "            loss = criterion(logits, batch_target)\n",
        "            train_losses.append(loss.item())\n",
        "\n",
        "            predictions = logits.argmax(dim=-1)\n",
        "            n_correct += (predictions == batch_target).sum().item()\n",
        "            n_total += batch_target.size(0)\n",
        "\n",
        "            optimizer.zero_grad()\n",
        "            loss.backward()\n",
        "            optimizer.step()\n",
        "\n",
        "            if (i + 1) % 10 == 0:\n",
        "                progress_bar.set_description(f\"Epoch: {epoch}  Iteration: {i}  Loss: {np.mean(train_losses[-10:])}\")\n",
        "        train_accuracies.append(n_correct / n_total * 100)\n",
        "        print(f\"Epoch: {epoch}  Train Accuracy: {n_correct / n_total * 100}\")\n",
        "\n",
        "        with torch.no_grad():\n",
        "            indices = list(range(len(test_data)))\n",
        "            n_correct, n_total = 0, 0\n",
        "            for i in range(0, (len(test_data) // batch_size) + 1):\n",
        "                batch = build_batch(test_data, indices[i*batch_size:(i+1)*batch_size])\n",
        "                (batch_input, batch_target, batch_indices) = batch_to_torch(*batch)\n",
        "                (batch_input, batch_target, batch_indices) = list_to_device((batch_input, batch_target, batch_indices))\n",
        "\n",
        "                logits = model(batch_input, batch_indices)\n",
        "                predictions = logits.argmax(dim=-1)\n",
        "                n_correct += (predictions == batch_target).sum().item()\n",
        "                n_total += batch_target.size(0)\n",
        "            eval_accuracies.append(n_correct / n_total * 100)\n",
        "            print(f\"Epoch: {epoch}  Eval Accuracy: {n_correct / n_total * 100}\")\n",
        "\n",
        "    to_save = {\n",
        "        \"history\": {\n",
        "            \"train_losses\": train_losses,\n",
        "            \"train_accuracies\": train_accuracies,\n",
        "            \"eval_accuracies\": eval_accuracies,\n",
        "        },\n",
        "        \"hparams\": {\n",
        "            \"hidden_size\": hidden_size,\n",
        "            \"num_layers\": num_layers,\n",
        "            \"dropout\": dropout,\n",
        "            \"optimizer_class\": optimizer_class.__name__,\n",
        "            \"lr\": lr,\n",
        "            \"batch_size\": batch_size,\n",
        "            \"epochs\": epochs,\n",
        "            \"seed\": seed\n",
        "        },\n",
        "        \"model\": [\n",
        "            (name, list(param.shape))\n",
        "            for name, param in rnn_model.named_parameters()\n",
        "        ]\n",
        "    }\n",
        "    return to_save"
      ]
    },
    {
      "cell_type": "code",
      "execution_count": 87,
      "metadata": {
        "id": "iglRmeFTKJXr",
        "colab": {
          "base_uri": "https://localhost:8080/"
        },
        "outputId": "36b1168e-0d9a-476c-e0cc-89030887eba5"
      },
      "outputs": [
        {
          "output_type": "stream",
          "name": "stderr",
          "text": [
            "Epoch: 0  Iteration: 59  Loss: 1.4300131320953369: 100%|██████████| 63/63 [00:00<00:00, 210.54it/s]\n"
          ]
        },
        {
          "output_type": "stream",
          "name": "stdout",
          "text": [
            "Epoch: 0  Train Accuracy: 49.75403200697428\n",
            "Epoch: 0  Eval Accuracy: 59.153175591531756\n"
          ]
        },
        {
          "output_type": "stream",
          "name": "stderr",
          "text": [
            "Epoch: 1  Iteration: 59  Loss: 1.180898118019104: 100%|██████████| 63/63 [00:00<00:00, 208.33it/s]\n"
          ]
        },
        {
          "output_type": "stream",
          "name": "stdout",
          "text": [
            "Epoch: 1  Train Accuracy: 62.71249766486082\n",
            "Epoch: 1  Eval Accuracy: 65.28019925280199\n"
          ]
        },
        {
          "output_type": "stream",
          "name": "stderr",
          "text": [
            "Epoch: 2  Iteration: 59  Loss: 0.9891284763813019: 100%|██████████| 63/63 [00:00<00:00, 210.75it/s]\n"
          ]
        },
        {
          "output_type": "stream",
          "name": "stdout",
          "text": [
            "Epoch: 2  Train Accuracy: 67.73771716794322\n",
            "Epoch: 2  Eval Accuracy: 69.41469489414695\n"
          ]
        },
        {
          "output_type": "stream",
          "name": "stderr",
          "text": [
            "Epoch: 3  Iteration: 59  Loss: 0.9226584196090698: 100%|██████████| 63/63 [00:00<00:00, 213.32it/s]\n"
          ]
        },
        {
          "output_type": "stream",
          "name": "stdout",
          "text": [
            "Epoch: 3  Train Accuracy: 71.28090167507317\n",
            "Epoch: 3  Eval Accuracy: 72.97633872976338\n"
          ]
        },
        {
          "output_type": "stream",
          "name": "stderr",
          "text": [
            "Epoch: 4  Iteration: 59  Loss: 0.9000013172626495: 100%|██████████| 63/63 [00:00<00:00, 176.86it/s]\n"
          ]
        },
        {
          "output_type": "stream",
          "name": "stdout",
          "text": [
            "Epoch: 4  Train Accuracy: 74.15156610000622\n",
            "Epoch: 4  Eval Accuracy: 74.57036114570361\n"
          ]
        },
        {
          "output_type": "stream",
          "name": "stderr",
          "text": [
            "Epoch: 5  Iteration: 59  Loss: 0.8282020628452301: 100%|██████████| 63/63 [00:00<00:00, 184.59it/s]\n"
          ]
        },
        {
          "output_type": "stream",
          "name": "stdout",
          "text": [
            "Epoch: 5  Train Accuracy: 75.18525437449405\n",
            "Epoch: 5  Eval Accuracy: 75.56662515566626\n"
          ]
        },
        {
          "output_type": "stream",
          "name": "stderr",
          "text": [
            "Epoch: 6  Iteration: 59  Loss: 0.8361374020576477: 100%|██████████| 63/63 [00:00<00:00, 185.85it/s]\n"
          ]
        },
        {
          "output_type": "stream",
          "name": "stdout",
          "text": [
            "Epoch: 6  Train Accuracy: 76.32480229154991\n",
            "Epoch: 6  Eval Accuracy: 76.36363636363637\n"
          ]
        },
        {
          "output_type": "stream",
          "name": "stderr",
          "text": [
            "Epoch: 7  Iteration: 59  Loss: 0.7586171805858613: 100%|██████████| 63/63 [00:00<00:00, 181.34it/s]\n"
          ]
        },
        {
          "output_type": "stream",
          "name": "stdout",
          "text": [
            "Epoch: 7  Train Accuracy: 77.58889096456815\n",
            "Epoch: 7  Eval Accuracy: 77.11083437110834\n"
          ]
        },
        {
          "output_type": "stream",
          "name": "stderr",
          "text": [
            "Epoch: 8  Iteration: 59  Loss: 0.732229745388031: 100%|██████████| 63/63 [00:00<00:00, 254.54it/s]\n"
          ]
        },
        {
          "output_type": "stream",
          "name": "stdout",
          "text": [
            "Epoch: 8  Train Accuracy: 78.09328102621583\n",
            "Epoch: 8  Eval Accuracy: 77.359900373599\n"
          ]
        },
        {
          "output_type": "stream",
          "name": "stderr",
          "text": [
            "Epoch: 9  Iteration: 59  Loss: 0.7472356975078582: 100%|██████████| 63/63 [00:00<00:00, 285.91it/s]\n"
          ]
        },
        {
          "output_type": "stream",
          "name": "stdout",
          "text": [
            "Epoch: 9  Train Accuracy: 78.79693629740333\n",
            "Epoch: 9  Eval Accuracy: 77.70859277708593\n"
          ]
        },
        {
          "output_type": "stream",
          "name": "stderr",
          "text": [
            "Epoch: 10  Iteration: 59  Loss: 0.6651513457298279: 100%|██████████| 63/63 [00:00<00:00, 252.03it/s]\n"
          ]
        },
        {
          "output_type": "stream",
          "name": "stdout",
          "text": [
            "Epoch: 10  Train Accuracy: 79.32623451024348\n",
            "Epoch: 10  Eval Accuracy: 78.48069738480697\n"
          ]
        },
        {
          "output_type": "stream",
          "name": "stderr",
          "text": [
            "Epoch: 11  Iteration: 59  Loss: 0.6834431409835815: 100%|██████████| 63/63 [00:00<00:00, 290.81it/s]\n"
          ]
        },
        {
          "output_type": "stream",
          "name": "stdout",
          "text": [
            "Epoch: 11  Train Accuracy: 79.98007347904603\n",
            "Epoch: 11  Eval Accuracy: 78.63013698630137\n"
          ]
        },
        {
          "output_type": "stream",
          "name": "stderr",
          "text": [
            "Epoch: 12  Iteration: 59  Loss: 0.6575711131095886: 100%|██████████| 63/63 [00:00<00:00, 270.08it/s]\n"
          ]
        },
        {
          "output_type": "stream",
          "name": "stdout",
          "text": [
            "Epoch: 12  Train Accuracy: 80.2291549909708\n",
            "Epoch: 12  Eval Accuracy: 79.07845579078456\n"
          ]
        },
        {
          "output_type": "stream",
          "name": "stderr",
          "text": [
            "Epoch: 13  Iteration: 59  Loss: 0.6144808948040008: 100%|██████████| 63/63 [00:00<00:00, 283.64it/s]\n"
          ]
        },
        {
          "output_type": "stream",
          "name": "stdout",
          "text": [
            "Epoch: 13  Train Accuracy: 80.85808580858085\n",
            "Epoch: 13  Eval Accuracy: 79.37733499377335\n"
          ]
        },
        {
          "output_type": "stream",
          "name": "stderr",
          "text": [
            "Epoch: 14  Iteration: 59  Loss: 0.6249692142009735: 100%|██████████| 63/63 [00:00<00:00, 238.78it/s]\n"
          ]
        },
        {
          "output_type": "stream",
          "name": "stdout",
          "text": [
            "Epoch: 14  Train Accuracy: 81.04489694252443\n",
            "Epoch: 14  Eval Accuracy: 79.7758405977584\n"
          ]
        },
        {
          "output_type": "stream",
          "name": "stderr",
          "text": [
            "Epoch: 15  Iteration: 59  Loss: 0.628585422039032: 100%|██████████| 63/63 [00:00<00:00, 292.67it/s]\n"
          ]
        },
        {
          "output_type": "stream",
          "name": "stdout",
          "text": [
            "Epoch: 15  Train Accuracy: 81.56796811756647\n",
            "Epoch: 15  Eval Accuracy: 80.04981320049814\n"
          ]
        },
        {
          "output_type": "stream",
          "name": "stderr",
          "text": [
            "Epoch: 16  Iteration: 59  Loss: 0.6052580952644349: 100%|██████████| 63/63 [00:00<00:00, 272.62it/s]\n"
          ]
        },
        {
          "output_type": "stream",
          "name": "stdout",
          "text": [
            "Epoch: 16  Train Accuracy: 81.92290927205929\n",
            "Epoch: 16  Eval Accuracy: 80.32378580323785\n"
          ]
        },
        {
          "output_type": "stream",
          "name": "stderr",
          "text": [
            "Epoch: 17  Iteration: 59  Loss: 0.5691969662904739: 100%|██████████| 63/63 [00:00<00:00, 268.39it/s]\n"
          ]
        },
        {
          "output_type": "stream",
          "name": "stdout",
          "text": [
            "Epoch: 17  Train Accuracy: 82.39616414471635\n",
            "Epoch: 17  Eval Accuracy: 80.59775840597759\n"
          ]
        },
        {
          "output_type": "stream",
          "name": "stderr",
          "text": [
            "Epoch: 18  Iteration: 59  Loss: 0.5943855941295624: 100%|██████████| 63/63 [00:00<00:00, 250.37it/s]\n"
          ]
        },
        {
          "output_type": "stream",
          "name": "stdout",
          "text": [
            "Epoch: 18  Train Accuracy: 82.71997011021857\n",
            "Epoch: 18  Eval Accuracy: 81.0958904109589\n"
          ]
        },
        {
          "output_type": "stream",
          "name": "stderr",
          "text": [
            "Epoch: 19  Iteration: 59  Loss: 0.5319564402103424: 100%|██████████| 63/63 [00:00<00:00, 279.14it/s]\n"
          ]
        },
        {
          "output_type": "stream",
          "name": "stdout",
          "text": [
            "Epoch: 19  Train Accuracy: 83.01886792452831\n",
            "Epoch: 19  Eval Accuracy: 80.47322540473225\n"
          ]
        }
      ],
      "source": [
        "rnn_log = train(rnn_model, rnn_optimizer, criterion, epochs, batch_size, 1997)"
      ]
    },
    {
      "cell_type": "code",
      "execution_count": null,
      "metadata": {
        "id": "1BG4uhARM3au"
      },
      "outputs": [],
      "source": [
        "n_steps = len(rnn_log[\"history\"][\"train_losses\"])\n",
        "plt.plot(range(n_steps), rnn_log[\"history\"][\"train_losses\"], alpha=0.4, color=\"blue\")\n",
        "moving_avg = np.convolve(np.array(rnn_log[\"history\"][\"train_losses\"]), np.ones(10), 'valid') / 10\n",
        "plt.plot(range(9, n_steps), moving_avg.tolist(), color=\"blue\")\n",
        "plt.xlabel(\"Iterations\")\n",
        "plt.title(\"RNN Training Loss\")\n",
        "plt.show()"
      ]
    },
    {
      "cell_type": "code",
      "execution_count": null,
      "metadata": {
        "id": "BTc2UTPNNEne"
      },
      "outputs": [],
      "source": [
        "plt.plot(rnn_log[\"history\"][\"train_accuracies\"], marker='o')\n",
        "plt.xlabel(\"Epochs\")\n",
        "plt.title(\"RNN Training Accuracy\")\n",
        "plt.show()"
      ]
    },
    {
      "cell_type": "code",
      "execution_count": null,
      "metadata": {
        "id": "R5VJX0bLNFAy"
      },
      "outputs": [],
      "source": [
        "plt.plot(rnn_log[\"history\"][\"eval_accuracies\"], marker='o')\n",
        "plt.xlabel(\"Epochs\")\n",
        "plt.title(\"RNN Eval Accuracy\")\n",
        "plt.show()"
      ]
    },
    {
      "cell_type": "code",
      "execution_count": null,
      "metadata": {
        "id": "8AHUPMNILEjs"
      },
      "outputs": [],
      "source": [
        "# Optional\n",
        "# train(lstm_model, lstm_optimizer, criterion, epochs, batch_size, 1997)"
      ]
    },
    {
      "cell_type": "markdown",
      "metadata": {
        "id": "fhaj6XIdyUKZ"
      },
      "source": [
        "## Use Your RNN: Try Your Own Name\n",
        "\n",
        "Attempt to use the code cells below to **predict the origin of your own last name**.\n",
        "\n",
        "Please refrain from entering the last names of your classmates, as the names you enter will be logged for anti-plagiarism purposes."
      ]
    },
    {
      "cell_type": "code",
      "execution_count": null,
      "metadata": {
        "id": "GCYvwLw1yUKp"
      },
      "outputs": [],
      "source": [
        "def classify_name(name, model):\n",
        "    '''\n",
        "    Numerize the name and return the most likely number representation of the\n",
        "    predicted class.\n",
        "    '''\n",
        "    # change this if your last name is longer than 19 characters\n",
        "    token = np.ones(19, dtype=np.int64) * pad\n",
        "    numerized = np.array([letterToIndex(l) for l in name])\n",
        "    n = len(numerized)\n",
        "    token[:n] = numerized\n",
        "    print(token)\n",
        "    logits = model(\n",
        "        torch.tensor(token, dtype=torch.long)[None, :],\n",
        "        torch.tensor([n - 1], dtype=torch.long)\n",
        "    )\n",
        "    return logits.argmax(dim=-1).item()"
      ]
    },
    {
      "cell_type": "code",
      "execution_count": null,
      "metadata": {
        "id": "xVKeMmSAyUKq"
      },
      "outputs": [],
      "source": [
        "model = rnn_model\n",
        "model.eval()\n",
        "model.cpu()\n",
        "############################################################################\n",
        "# TODO: Enter your last name\n",
        "############################################################################\n",
        "############################################################################\n",
        "rnn_log[\"last_name\"] = name\n",
        "rnn_log[\"source_init\"] = inspect.getsource(RecurrentClassifier.__init__)\n",
        "rnn_log[\"source_forward\"] = inspect.getsource(RecurrentClassifier.forward)\n",
        "print(\"Predicting origin language for name: \"+ name)\n",
        "c = classify_name(name, model)\n",
        "print(num_to_cat[c])"
      ]
    },
    {
      "cell_type": "code",
      "source": [
        "with open(\"submission_log.json\", \"w\", encoding=\"utf-8\") as f:\n",
        "    json.dump(rnn_log, f)"
      ],
      "metadata": {
        "id": "23kU_VTBnGYN"
      },
      "execution_count": null,
      "outputs": []
    },
    {
      "cell_type": "markdown",
      "source": [
        "# All done\n",
        "\n",
        "You are done with this coding assignment. Please download `submission_log.json` and submit it to Gradescope."
      ],
      "metadata": {
        "id": "pFa_3NkdnHxl"
      }
    },
    {
      "cell_type": "markdown",
      "metadata": {
        "id": "EmtvZ9BU3aZc"
      },
      "source": [
        "### Question\n",
        "\n",
        "Although the neural network you have trained is intended to predict the language of origin for a given last name, it could potentially be misused. **In what ways do you think this could be problematic in real-world applications?** Include your answer in your submission of the written assignment."
      ]
    }
  ],
  "metadata": {
    "accelerator": "GPU",
    "anaconda-cloud": {},
    "colab": {
      "provenance": [],
      "gpuType": "T4",
      "include_colab_link": true
    },
    "kernelspec": {
      "display_name": "Python 3",
      "name": "python3"
    },
    "language_info": {
      "codemirror_mode": {
        "name": "ipython",
        "version": 3
      },
      "file_extension": ".py",
      "mimetype": "text/x-python",
      "name": "python",
      "nbconvert_exporter": "python",
      "pygments_lexer": "ipython3",
      "version": "3.9.12"
    },
    "varInspector": {
      "cols": {
        "lenName": 16,
        "lenType": 16,
        "lenVar": 40
      },
      "kernels_config": {
        "python": {
          "delete_cmd_postfix": "",
          "delete_cmd_prefix": "del ",
          "library": "var_list.py",
          "varRefreshCmd": "print(var_dic_list())"
        },
        "r": {
          "delete_cmd_postfix": ") ",
          "delete_cmd_prefix": "rm(",
          "library": "var_list.r",
          "varRefreshCmd": "cat(var_dic_list()) "
        }
      },
      "types_to_exclude": [
        "module",
        "function",
        "builtin_function_or_method",
        "instance",
        "_Feature"
      ],
      "window_display": false
    }
  },
  "nbformat": 4,
  "nbformat_minor": 0
}